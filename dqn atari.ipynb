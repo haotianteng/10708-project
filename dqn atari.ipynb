{
 "cells": [
  {
   "cell_type": "code",
   "execution_count": 1,
   "metadata": {},
   "outputs": [],
   "source": [
    "import gym\n",
    "import numpy as np\n",
    "import time\n",
    "\n",
    "import torch\n",
    "import torch.nn as nn\n",
    "import torch.optim as optim\n",
    "import torch.nn.functional as F\n",
    "import torchvision.transforms as T\n",
    "from torch.distributions import Categorical, Normal\n",
    "\n",
    "from copy import deepcopy\n",
    "import matplotlib.pyplot as plt\n",
    "import random\n",
    "import time"
   ]
  },
  {
   "cell_type": "code",
   "execution_count": 7,
   "metadata": {},
   "outputs": [],
   "source": [
    "def simulate(env, horizon, policy, render = False):\n",
    "    tot_reward = 0\n",
    "    frame = env.reset()\n",
    "    frame_buffer = 4 * [preprocess(frame)]\n",
    "    movie_frame = []\n",
    "    for t in range(horizon):\n",
    "        if render:\n",
    "            #env.render()\n",
    "            env.render()\n",
    "            movie_frame.append(env.render(mode=\"rgb_array\"))\n",
    "            time.sleep(1/24)\n",
    "            \n",
    "        state = torch.stack(frame_buffer[-4:]) \n",
    "        action = policy(state)\n",
    "        frame, reward, done, info = env.step(action)\n",
    "        frame_buffer.append(preprocess(frame))\n",
    "        next_state = torch.stack(frame_buffer[-4:])\n",
    "        \n",
    "        tot_reward += reward\n",
    "        if done:\n",
    "            break\n",
    "            \n",
    "    if render:    \n",
    "        env.close()\n",
    "            \n",
    "    return tot_reward, reward, done, t, movie_frame\n",
    "\n",
    "\n",
    "def preprocess(img):\n",
    "    img_gray = np.mean(img, axis=2)\n",
    "    img_down = img_gray[::2, ::2]\n",
    "\n",
    "    return torch.tensor(img_down, dtype = torch.int8)\n",
    "\n",
    "class ReplayMemory(object):\n",
    "    def __init__(self, capacity):\n",
    "        self.capacity = capacity\n",
    "        self.memory = []\n",
    "        self.position = 0\n",
    "\n",
    "\n",
    "    def push(self, state, action, next_state, reward, done):\n",
    "        \"\"\"Saves a transition.\"\"\"\n",
    "        if len(self.memory) < self.capacity:\n",
    "            self.memory.append(None)\n",
    "        self.memory[self.position] = (state, action, next_state, \n",
    "                                      reward, done)\n",
    "        self.position = (self.position + 1) % self.capacity\n",
    "\n",
    "    def sample(self, batch_size):\n",
    "        return random.sample(self.memory, batch_size)\n",
    "\n",
    "    def __len__(self):\n",
    "        return len(self.memory)\n",
    "\n",
    "class DQN(nn.Module):\n",
    "\n",
    "    def __init__(self, out_size, hidden_size = 256): \n",
    "        super(DQN, self).__init__()\n",
    "\n",
    "        # an affine operation: y = Wx + b\n",
    "        self.conv1 = nn.Conv2d(\n",
    "            in_channels=NUM_FRAMES,\n",
    "            out_channels=16,\n",
    "            kernel_size=8,\n",
    "            stride=4,\n",
    "            padding=2)\n",
    "        \n",
    "        self.conv2 = nn.Conv2d(\n",
    "            in_channels=16,\n",
    "            out_channels=32,\n",
    "            kernel_size=4,\n",
    "            stride=2,\n",
    "            padding=1)\n",
    "        \n",
    "        self.fc1 = nn.Linear(4160, hidden_size)  # 6*6 from image dimension\n",
    "        self.fc2 = nn.Linear(hidden_size, hidden_size)\n",
    "        self.fc3 = nn.Linear(hidden_size, out_size)\n",
    "\n",
    "    def forward(self, x):\n",
    "        x = F.relu(self.conv1(x))   # In: (4, 105, 80)  Out: (16, 26, 20)\n",
    "        x = F.relu(self.conv2(x))    # In: (16, 26, 20) Out: (32, 13, 10)\n",
    "        x = x.view(x.size()[0], -1)  # In: (32, 13, 10) Out: (4160,)\n",
    "        \n",
    "        x = F.relu(self.fc1(x))\n",
    "        x = F.relu(self.fc2(x))\n",
    "        x = self.fc3(x)\n",
    "        return x\n",
    "        \n",
    "    \n",
    "def predict(state):\n",
    "    q_vals = Q(state.to(device).unsqueeze(0).float() / 255).squeeze()\n",
    "    if np.random.rand() < EPS:\n",
    "        return np.random.randint(q_vals.shape[0])\n",
    "    return q_vals.argmax().item()\n",
    "\n",
    "def optimize_model():\n",
    "    if len(memory) < BATCH_SIZE:\n",
    "        return None\n",
    "    \n",
    "    transitions = memory.sample(BATCH_SIZE)\n",
    "    batch = tuple(zip(*transitions) )\n",
    "\n",
    "    batch_state = torch.stack(batch[0]).to(device).float() / 255\n",
    "    batch_action = torch.stack(batch[1]).to(device)\n",
    "    batch_next_state = torch.stack(batch[2]).to(device).float() / 255\n",
    "    batch_reward = torch.stack(batch[3]).to(device)\n",
    "    batch_done = torch.stack(batch[4]).to(device)\n",
    "\n",
    "    current_Q = Q(batch_state).gather(1, batch_action)\n",
    "\n",
    "    expected_Q = batch_reward.float()\n",
    "    expected_Q[~batch_done] += GAMMA * target_Q(batch_next_state[~batch_done]).max(1)[0].detach()\n",
    "\n",
    "    loss = F.mse_loss(current_Q, expected_Q.unsqueeze(1))\n",
    "    #loss = F.smooth_l1_loss(current_Q, current_Q.unsqueeze(1))\n",
    "    # Optimize the model\n",
    "    optimizer.zero_grad()\n",
    "    loss.backward()\n",
    "\n",
    "    for param in Q.parameters():\n",
    "        param.grad.data.clamp_(-1, 1)\n",
    "\n",
    "    optimizer.step()\n",
    "    return loss.detach().item()\n",
    "        "
   ]
  },
  {
   "cell_type": "markdown",
   "metadata": {},
   "source": [
    "# Training"
   ]
  },
  {
   "cell_type": "code",
   "execution_count": 14,
   "metadata": {},
   "outputs": [
    {
     "name": "stdout",
     "output_type": "stream",
     "text": [
      "0 True -20.0 930 0.285 15.025001049041748 931\n",
      "1 True -21.0 1025 0.27075 17.4010009765625 1957\n",
      "2 True -20.0 888 0.25721249999999996 15.624999523162842 2846\n",
      "3 True -21.0 823 0.24435187499999994 13.996999025344849 3670\n",
      "4 True -21.0 1102 0.23213428124999994 18.76600193977356 4773\n",
      "5 True -21.0 1019 0.22052756718749994 17.017000675201416 5793\n",
      "6 True -21.0 810 0.20950118882812493 13.45799994468689 6604\n",
      "7 True -21.0 852 0.19902612938671868 13.655999660491943 7457\n",
      "8 True -21.0 809 0.18907482291738273 13.63100004196167 8267\n",
      "9 True -20.0 1015 0.1796210817715136 17.04699993133545 9283\n"
     ]
    }
   ],
   "source": [
    "NUM_FRAMES = 4\n",
    "BUFFER_SIZE = 20000#100000\n",
    "BATCH_SIZE = 64\n",
    "GAMMA = 0.99\n",
    "T_MAX = 2000\n",
    "EPISODE_MAX = 10\n",
    "TARGET_UPDATE = 5\n",
    "EPS = 0.3\n",
    "EPS_MIN = 0.1\n",
    "EPS_DECAY = 0.95\n",
    "train_hist = []\n",
    "\n",
    "env = gym.make('PongDeterministic-v4')\n",
    "device = torch.device('cuda' if torch.cuda.is_available() else 'cpu')\n",
    "#device = torch.device('cpu')\n",
    "\n",
    "Q = DQN(env.action_space.n).to(device)\n",
    "####### load model ##########\n",
    "#Q.load_state_dict(torch.load('pong_Q'))\n",
    "\n",
    "target_Q = DQN(env.action_space.n).to(device)\n",
    "target_Q.load_state_dict(Q.state_dict())\n",
    "target_Q.eval()\n",
    "\n",
    "memory = ReplayMemory(BUFFER_SIZE)\n",
    "optimizer = optim.Adam(Q.parameters())\n",
    "\n",
    "for i_episode in range(EPISODE_MAX):\n",
    "    tot_reward = 0\n",
    "    frame = env.reset()\n",
    "    frame_buffer = 4 * [preprocess(frame)]\n",
    "    \n",
    "    t_start = time.time()\n",
    "    for t in range(T_MAX):\n",
    "        state = torch.stack(frame_buffer[-4:])\n",
    "        #action = np.random.randint(env.action_space.n) \n",
    "        action = predict(state)\n",
    "        frame, reward, done, info = env.step(action)\n",
    "        frame_buffer.append(preprocess(frame))\n",
    "        next_state = torch.stack(frame_buffer[-4:])\n",
    "        \n",
    "        memory.push(state, torch.tensor([action]), \n",
    "                    next_state,\n",
    "                    torch.tensor(reward, dtype = torch.float32),\n",
    "                    torch.tensor(done))\n",
    "        tot_reward += reward\n",
    "        \n",
    "        loss = optimize_model()\n",
    "        if done:\n",
    "            break  \n",
    "    EPS = max(EPS_MIN, EPS_DECAY * EPS)\n",
    "    \n",
    "    train_hist += [tot_reward]\n",
    "    \n",
    "    if i_episode % TARGET_UPDATE == 0:\n",
    "        target_Q.load_state_dict(Q.state_dict())\n",
    "\n",
    "    print(i_episode, done, tot_reward, t, EPS, time.time() - t_start, len(memory))\n",
    "\n",
    "###"
   ]
  },
  {
   "cell_type": "markdown",
   "metadata": {},
   "source": [
    "# Plotting"
   ]
  },
  {
   "cell_type": "code",
   "execution_count": 15,
   "metadata": {},
   "outputs": [
    {
     "data": {
      "text/plain": [
       "Text(0, 0.5, 'Total Reward')"
      ]
     },
     "execution_count": 15,
     "metadata": {},
     "output_type": "execute_result"
    },
    {
     "data": {
      "image/png": "[encoded data removed]",
      "text/plain": [
       "<Figure size 720x720 with 1 Axes>"
      ]
     },
     "metadata": {
      "needs_background": "light"
     },
     "output_type": "display_data"
    }
   ],
   "source": [
    "plt.figure(figsize = (10,10))\n",
    "plt.plot(train_hist)\n",
    "plt.plot(np.arange(0,EPISODE_MAX,10),\n",
    "         np.array(train_hist).reshape(-1, 10).mean(axis = 1))\n",
    "plt.xlabel('# of Episode', fontsize = 20)\n",
    "plt.ylabel('Total Reward', fontsize = 20)"
   ]
  },
  {
   "cell_type": "markdown",
   "metadata": {},
   "source": [
    "# Rendering policy"
   ]
  },
  {
   "cell_type": "code",
   "execution_count": 16,
   "metadata": {},
   "outputs": [],
   "source": [
    "_ = simulate(env, 100, predict, True)\n"
   ]
  },
  {
   "cell_type": "markdown",
   "metadata": {},
   "source": [
    "#  Saving Network parameters"
   ]
  },
  {
   "cell_type": "code",
   "execution_count": null,
   "metadata": {},
   "outputs": [],
   "source": [
    "torch.save(Q.state_dict(), 'pong_Q')\n",
    "torch.save(target_Q.state_dict(), 'pong_Q_target')"
   ]
  },
  {
   "cell_type": "markdown",
   "metadata": {},
   "source": [
    "# Saving animation"
   ]
  },
  {
   "cell_type": "code",
   "execution_count": 9,
   "metadata": {},
   "outputs": [],
   "source": [
    "env = gym.make('PongDeterministic-v4')\n",
    "\n",
    "Q = DQN(env.action_space.n).to(device)\n",
    "target_Q = DQN(env.action_space.n).to(device)\n",
    "####### load model ##########\n",
    "\n",
    "Q.load_state_dict(torch.load('pong_Q'))\n",
    "target_Q.load_state_dict(torch.load('pong_Q_target'))\n",
    "\n",
    "reward_tot, reward, t, done, frames = simulate(env, 500, predict, True)"
   ]
  },
  {
   "cell_type": "code",
   "execution_count": 12,
   "metadata": {},
   "outputs": [],
   "source": [
    "from matplotlib import animation\n",
    "def save_frames_as_gif(frames, path='./', filename='pong_animation.gif'):\n",
    "\n",
    "    #Mess with this to change frame size\n",
    "    plt.figure(figsize=(frames[0].shape[1] / 200.0, frames[0].shape[0] / 200.0), dpi=144)\n",
    "\n",
    "    patch = plt.imshow(frames[0])\n",
    "    plt.axis('off')\n",
    "\n",
    "    def animate(i):\n",
    "        patch.set_data(frames[i])\n",
    "\n",
    "    anim = animation.FuncAnimation(plt.gcf(), animate, frames = len(frames), interval=0)\n",
    "    anim.save(path + filename, writer='imagemagick', fps=12)"
   ]
  },
  {
   "cell_type": "code",
   "execution_count": 13,
   "metadata": {},
   "outputs": [
    {
     "name": "stderr",
     "output_type": "stream",
     "text": [
      "MovieWriter imagemagick unavailable; trying to use <class 'matplotlib.animation.PillowWriter'> instead.\n"
     ]
    },
    {
     "data": {
      "image/png": "[encoded data removed]",
      "text/plain": [
       "<Figure size 115.2x151.2 with 1 Axes>"
      ]
     },
     "metadata": {
      "needs_background": "light"
     },
     "output_type": "display_data"
    }
   ],
   "source": [
    "save_frames_as_gif(frames[::4])"
   ]
  },
  {
   "cell_type": "code",
   "execution_count": null,
   "metadata": {},
   "outputs": [],
   "source": []
  }
 ],
 "metadata": {
  "kernelspec": {
   "display_name": "Python 3",
   "language": "python",
   "name": "python3"
  },
  "language_info": {
   "codemirror_mode": {
    "name": "ipython",
    "version": 3
   },
   "file_extension": ".py",
   "mimetype": "text/x-python",
   "name": "python",
   "nbconvert_exporter": "python",
   "pygments_lexer": "ipython3",
   "version": "3.6.5"
  }
 },
 "nbformat": 4,
 "nbformat_minor": 4
}
